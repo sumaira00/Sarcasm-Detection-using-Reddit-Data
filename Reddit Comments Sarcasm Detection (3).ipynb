{
 "cells": [
  {
   "cell_type": "markdown",
   "metadata": {},
   "source": [
    "# Project Overview and Scope\n",
    "\n",
    "Sarcasm detection in Reddit comments lies in the domain of sentiment analysis and is treated as a binary classification problem since we have two distinct classes in our data. Sarcastic comment are labelled as 1 and non-sarcastic comments as 0. The aim of this project is to build a machine learning pipeline which includes:\n",
    "\n",
    "1. Data Analysis\n",
    "2. Data Preprocessing\n",
    "3. Feature Engineering\n",
    "4. Model Training\n",
    "5. Optimization\n",
    "\n",
    "The end product will be a trained model which would be able to generalize what it has learned on new data and distinguish between sarcastic and non-sarcastic comments with high accuracy."
   ]
  },
  {
   "cell_type": "code",
   "execution_count": 1,
   "metadata": {},
   "outputs": [],
   "source": [
    "# import libraries\n",
    "import pandas as pd\n",
    "import numpy as np\n",
    "from scipy.sparse import hstack\n",
    "from gensim.models import Word2Vec \n",
    "from sklearn.linear_model import LogisticRegression\n",
    "from sklearn import svm\n",
    "import matplotlib.pyplot as plt\n",
    "import seaborn as sns\n",
    "sns.set(style=\"whitegrid\")\n",
    "import xgboost\n",
    "import re\n",
    "from nltk.stem import PorterStemmer\n",
    "from nltk.corpus import stopwords\n",
    "import warnings\n",
    "from sklearn.feature_extraction.text import TfidfVectorizer, CountVectorizer \n",
    "from sklearn.ensemble import RandomForestClassifier\n",
    "from sklearn.model_selection import train_test_split\n",
    "from sklearn.preprocessing import OneHotEncoder, StandardScaler\n",
    "from nltk.corpus import stopwords\n",
    "from sklearn.metrics import classification_report, confusion_matrix, accuracy_score\n",
    "from sklearn.metrics import precision_recall_fscore_support\n",
    "from sklearn.metrics import plot_confusion_matrix\n",
    "import pickle\n",
    "warnings.filterwarnings('ignore')"
   ]
  },
  {
   "cell_type": "markdown",
   "metadata": {},
   "source": [
    "### 1. Data Analysis"
   ]
  },
  {
   "cell_type": "code",
   "execution_count": 10,
   "metadata": {},
   "outputs": [
    {
     "name": "stdout",
     "output_type": "stream",
     "text": [
      "Dimensions of total data: (1010826, 10)\n"
     ]
    }
   ],
   "source": [
    "# load dataset\n",
    "file = 'train-balanced-sarcasm.csv'\n",
    "df = pd.read_csv(file)\n",
    "print('Dimensions of total data:', df.shape)"
   ]
  },
  {
   "cell_type": "code",
   "execution_count": 11,
   "metadata": {},
   "outputs": [
    {
     "name": "stdout",
     "output_type": "stream",
     "text": [
      "Dimensions of subset: (50541, 10)\n"
     ]
    }
   ],
   "source": [
    "# pick a subset of entire data to test the pipeline\n",
    "subset_ratio = 0.05\n",
    "subset_df = df[:int(df.shape[0] * subset_ratio)]\n",
    "print('Dimensions of subset:', subset_df.shape)"
   ]
  },
  {
   "cell_type": "code",
   "execution_count": 12,
   "metadata": {
    "scrolled": false
   },
   "outputs": [
    {
     "data": {
      "text/html": [
       "<div>\n",
       "<style scoped>\n",
       "    .dataframe tbody tr th:only-of-type {\n",
       "        vertical-align: middle;\n",
       "    }\n",
       "\n",
       "    .dataframe tbody tr th {\n",
       "        vertical-align: top;\n",
       "    }\n",
       "\n",
       "    .dataframe thead th {\n",
       "        text-align: right;\n",
       "    }\n",
       "</style>\n",
       "<table border=\"1\" class=\"dataframe\">\n",
       "  <thead>\n",
       "    <tr style=\"text-align: right;\">\n",
       "      <th></th>\n",
       "      <th>label</th>\n",
       "      <th>comment</th>\n",
       "      <th>author</th>\n",
       "      <th>subreddit</th>\n",
       "      <th>score</th>\n",
       "      <th>ups</th>\n",
       "      <th>downs</th>\n",
       "      <th>date</th>\n",
       "      <th>created_utc</th>\n",
       "      <th>parent_comment</th>\n",
       "    </tr>\n",
       "  </thead>\n",
       "  <tbody>\n",
       "    <tr>\n",
       "      <th>0</th>\n",
       "      <td>0</td>\n",
       "      <td>NC and NH.</td>\n",
       "      <td>Trumpbart</td>\n",
       "      <td>politics</td>\n",
       "      <td>2</td>\n",
       "      <td>-1</td>\n",
       "      <td>-1</td>\n",
       "      <td>2016-10</td>\n",
       "      <td>2016-10-16 23:55:23</td>\n",
       "      <td>Yeah, I get that argument. At this point, I'd ...</td>\n",
       "    </tr>\n",
       "    <tr>\n",
       "      <th>1</th>\n",
       "      <td>0</td>\n",
       "      <td>You do know west teams play against west teams...</td>\n",
       "      <td>Shbshb906</td>\n",
       "      <td>nba</td>\n",
       "      <td>-4</td>\n",
       "      <td>-1</td>\n",
       "      <td>-1</td>\n",
       "      <td>2016-11</td>\n",
       "      <td>2016-11-01 00:24:10</td>\n",
       "      <td>The blazers and Mavericks (The wests 5 and 6 s...</td>\n",
       "    </tr>\n",
       "    <tr>\n",
       "      <th>2</th>\n",
       "      <td>0</td>\n",
       "      <td>They were underdogs earlier today, but since G...</td>\n",
       "      <td>Creepeth</td>\n",
       "      <td>nfl</td>\n",
       "      <td>3</td>\n",
       "      <td>3</td>\n",
       "      <td>0</td>\n",
       "      <td>2016-09</td>\n",
       "      <td>2016-09-22 21:45:37</td>\n",
       "      <td>They're favored to win.</td>\n",
       "    </tr>\n",
       "    <tr>\n",
       "      <th>3</th>\n",
       "      <td>0</td>\n",
       "      <td>This meme isn't funny none of the \"new york ni...</td>\n",
       "      <td>icebrotha</td>\n",
       "      <td>BlackPeopleTwitter</td>\n",
       "      <td>-8</td>\n",
       "      <td>-1</td>\n",
       "      <td>-1</td>\n",
       "      <td>2016-10</td>\n",
       "      <td>2016-10-18 21:03:47</td>\n",
       "      <td>deadass don't kill my buzz</td>\n",
       "    </tr>\n",
       "    <tr>\n",
       "      <th>4</th>\n",
       "      <td>0</td>\n",
       "      <td>I could use one of those tools.</td>\n",
       "      <td>cush2push</td>\n",
       "      <td>MaddenUltimateTeam</td>\n",
       "      <td>6</td>\n",
       "      <td>-1</td>\n",
       "      <td>-1</td>\n",
       "      <td>2016-12</td>\n",
       "      <td>2016-12-30 17:00:13</td>\n",
       "      <td>Yep can confirm I saw the tool they use for th...</td>\n",
       "    </tr>\n",
       "  </tbody>\n",
       "</table>\n",
       "</div>"
      ],
      "text/plain": [
       "   label                                            comment     author  \\\n",
       "0      0                                         NC and NH.  Trumpbart   \n",
       "1      0  You do know west teams play against west teams...  Shbshb906   \n",
       "2      0  They were underdogs earlier today, but since G...   Creepeth   \n",
       "3      0  This meme isn't funny none of the \"new york ni...  icebrotha   \n",
       "4      0                    I could use one of those tools.  cush2push   \n",
       "\n",
       "            subreddit  score  ups  downs     date          created_utc  \\\n",
       "0            politics      2   -1     -1  2016-10  2016-10-16 23:55:23   \n",
       "1                 nba     -4   -1     -1  2016-11  2016-11-01 00:24:10   \n",
       "2                 nfl      3    3      0  2016-09  2016-09-22 21:45:37   \n",
       "3  BlackPeopleTwitter     -8   -1     -1  2016-10  2016-10-18 21:03:47   \n",
       "4  MaddenUltimateTeam      6   -1     -1  2016-12  2016-12-30 17:00:13   \n",
       "\n",
       "                                      parent_comment  \n",
       "0  Yeah, I get that argument. At this point, I'd ...  \n",
       "1  The blazers and Mavericks (The wests 5 and 6 s...  \n",
       "2                            They're favored to win.  \n",
       "3                         deadass don't kill my buzz  \n",
       "4  Yep can confirm I saw the tool they use for th...  "
      ]
     },
     "execution_count": 12,
     "metadata": {},
     "output_type": "execute_result"
    }
   ],
   "source": [
    "# print first 5 rows of data\n",
    "subset_df.head()"
   ]
  },
  {
   "cell_type": "code",
   "execution_count": 13,
   "metadata": {},
   "outputs": [
    {
     "data": {
      "text/html": [
       "<div>\n",
       "<style scoped>\n",
       "    .dataframe tbody tr th:only-of-type {\n",
       "        vertical-align: middle;\n",
       "    }\n",
       "\n",
       "    .dataframe tbody tr th {\n",
       "        vertical-align: top;\n",
       "    }\n",
       "\n",
       "    .dataframe thead th {\n",
       "        text-align: right;\n",
       "    }\n",
       "</style>\n",
       "<table border=\"1\" class=\"dataframe\">\n",
       "  <thead>\n",
       "    <tr style=\"text-align: right;\">\n",
       "      <th></th>\n",
       "      <th>label</th>\n",
       "      <th>score</th>\n",
       "      <th>ups</th>\n",
       "      <th>downs</th>\n",
       "    </tr>\n",
       "  </thead>\n",
       "  <tbody>\n",
       "    <tr>\n",
       "      <th>count</th>\n",
       "      <td>50541.000000</td>\n",
       "      <td>50541.000000</td>\n",
       "      <td>50541.000000</td>\n",
       "      <td>50541.000000</td>\n",
       "    </tr>\n",
       "    <tr>\n",
       "      <th>mean</th>\n",
       "      <td>0.412042</td>\n",
       "      <td>8.148098</td>\n",
       "      <td>0.938881</td>\n",
       "      <td>-0.782711</td>\n",
       "    </tr>\n",
       "    <tr>\n",
       "      <th>std</th>\n",
       "      <td>0.492207</td>\n",
       "      <td>48.378999</td>\n",
       "      <td>19.927624</td>\n",
       "      <td>0.412405</td>\n",
       "    </tr>\n",
       "    <tr>\n",
       "      <th>min</th>\n",
       "      <td>0.000000</td>\n",
       "      <td>-188.000000</td>\n",
       "      <td>-85.000000</td>\n",
       "      <td>-1.000000</td>\n",
       "    </tr>\n",
       "    <tr>\n",
       "      <th>25%</th>\n",
       "      <td>0.000000</td>\n",
       "      <td>1.000000</td>\n",
       "      <td>-1.000000</td>\n",
       "      <td>-1.000000</td>\n",
       "    </tr>\n",
       "    <tr>\n",
       "      <th>50%</th>\n",
       "      <td>0.000000</td>\n",
       "      <td>2.000000</td>\n",
       "      <td>-1.000000</td>\n",
       "      <td>-1.000000</td>\n",
       "    </tr>\n",
       "    <tr>\n",
       "      <th>75%</th>\n",
       "      <td>1.000000</td>\n",
       "      <td>5.000000</td>\n",
       "      <td>-1.000000</td>\n",
       "      <td>-1.000000</td>\n",
       "    </tr>\n",
       "    <tr>\n",
       "      <th>max</th>\n",
       "      <td>1.000000</td>\n",
       "      <td>3192.000000</td>\n",
       "      <td>1737.000000</td>\n",
       "      <td>0.000000</td>\n",
       "    </tr>\n",
       "  </tbody>\n",
       "</table>\n",
       "</div>"
      ],
      "text/plain": [
       "              label         score           ups         downs\n",
       "count  50541.000000  50541.000000  50541.000000  50541.000000\n",
       "mean       0.412042      8.148098      0.938881     -0.782711\n",
       "std        0.492207     48.378999     19.927624      0.412405\n",
       "min        0.000000   -188.000000    -85.000000     -1.000000\n",
       "25%        0.000000      1.000000     -1.000000     -1.000000\n",
       "50%        0.000000      2.000000     -1.000000     -1.000000\n",
       "75%        1.000000      5.000000     -1.000000     -1.000000\n",
       "max        1.000000   3192.000000   1737.000000      0.000000"
      ]
     },
     "execution_count": 13,
     "metadata": {},
     "output_type": "execute_result"
    }
   ],
   "source": [
    "# some info about numerical features\n",
    "subset_df.describe()"
   ]
  },
  {
   "cell_type": "code",
   "execution_count": 14,
   "metadata": {},
   "outputs": [
    {
     "name": "stdout",
     "output_type": "stream",
     "text": [
      "<class 'pandas.core.frame.DataFrame'>\n",
      "RangeIndex: 50541 entries, 0 to 50540\n",
      "Data columns (total 10 columns):\n",
      "label             50541 non-null int64\n",
      "comment           50541 non-null object\n",
      "author            50541 non-null object\n",
      "subreddit         50541 non-null object\n",
      "score             50541 non-null int64\n",
      "ups               50541 non-null int64\n",
      "downs             50541 non-null int64\n",
      "date              50541 non-null object\n",
      "created_utc       50541 non-null object\n",
      "parent_comment    50541 non-null object\n",
      "dtypes: int64(4), object(6)\n",
      "memory usage: 3.9+ MB\n"
     ]
    }
   ],
   "source": [
    "# info about the dataset\n",
    "subset_df.info()"
   ]
  },
  {
   "cell_type": "code",
   "execution_count": 15,
   "metadata": {
    "scrolled": true
   },
   "outputs": [
    {
     "name": "stdout",
     "output_type": "stream",
     "text": [
      "Missing values in data: False\n"
     ]
    }
   ],
   "source": [
    "# check if there are any missing values in data\n",
    "print('Missing values in data:', subset_df.isnull().values.any())"
   ]
  },
  {
   "cell_type": "code",
   "execution_count": 16,
   "metadata": {
    "scrolled": true
   },
   "outputs": [
    {
     "data": {
      "text/plain": [
       "label             0\n",
       "comment           0\n",
       "author            0\n",
       "subreddit         0\n",
       "score             0\n",
       "ups               0\n",
       "downs             0\n",
       "date              0\n",
       "created_utc       0\n",
       "parent_comment    0\n",
       "dtype: int64"
      ]
     },
     "execution_count": 16,
     "metadata": {},
     "output_type": "execute_result"
    }
   ],
   "source": [
    "# print total no. of missing values with respect to each column\n",
    "subset_df.isnull().sum()"
   ]
  },
  {
   "cell_type": "code",
   "execution_count": 17,
   "metadata": {},
   "outputs": [
    {
     "name": "stdout",
     "output_type": "stream",
     "text": [
      "No. of rows before removing missing vals: 50541\n",
      "No. of after removing missing vals: 50541\n",
      "No. of rows removed: 0\n"
     ]
    }
   ],
   "source": [
    "# since the number of rows with missing data is very small, we'll just go ahead and drop them\n",
    "data = subset_df.dropna()\n",
    "print('No. of rows before removing missing vals:', subset_df.shape[0])\n",
    "print('No. of after removing missing vals:', data.shape[0])\n",
    "print('No. of rows removed:', subset_df.shape[0] - data.shape[0])"
   ]
  },
  {
   "cell_type": "code",
   "execution_count": 18,
   "metadata": {},
   "outputs": [
    {
     "name": "stdout",
     "output_type": "stream",
     "text": [
      "No. of Non-sarcastic comments(0): 29716\n",
      "No. of Sarcastic comments(1): 20825\n"
     ]
    }
   ],
   "source": [
    "# check the distribution of sarcastic vs. non-sarcastic comments\n",
    "print('No. of Non-sarcastic comments(0):', data[data['label'] == 0].shape[0])\n",
    "print('No. of Sarcastic comments(1):', data[data['label'] == 1].shape[0])"
   ]
  },
  {
   "cell_type": "code",
   "execution_count": 19,
   "metadata": {
    "scrolled": false
   },
   "outputs": [
    {
     "data": {
      "image/png": "[encoded data removed]",
      "text/plain": [
       "<Figure size 432x288 with 1 Axes>"
      ]
     },
     "metadata": {},
     "output_type": "display_data"
    }
   ],
   "source": [
    "# visualize distribution of sarcastic vs. non-sarcastic comments\n",
    "ax = sns.countplot(x=\"label\", data=data)"
   ]
  },
  {
   "cell_type": "code",
   "execution_count": 12,
   "metadata": {
    "scrolled": false
   },
   "outputs": [
    {
     "data": {
      "image/png": "[encoded data removed]",
      "text/plain": [
       "<Figure size 1080x864 with 6 Axes>"
      ]
     },
     "metadata": {},
     "output_type": "display_data"
    }
   ],
   "source": [
    "# frequency distribution of numeric features\n",
    "fig, ax = plt.subplots(nrows=3, ncols=2, squeeze=False, figsize=(15, 12))\n",
    "cols = ['score', 'ups', 'downs']\n",
    "\n",
    "for i, row in enumerate(ax):\n",
    "    axes = row.flatten()\n",
    "    data.hist(ax=axes, column=cols[i], by='label', bins=50, log=True)\n",
    "\n",
    "    axes[0].set_xlabel(cols[i])\n",
    "    axes[0].set_ylabel('Log Frequency')\n",
    "\n",
    "    axes[1].set_xlabel(cols[i])\n",
    "    axes[1].set_ylabel('Log Frequency')\n"
   ]
  },
  {
   "cell_type": "markdown",
   "metadata": {},
   "source": [
    "### 2. Data Preprocessing"
   ]
  },
  {
   "cell_type": "code",
   "execution_count": 13,
   "metadata": {},
   "outputs": [],
   "source": [
    "# basic text preprocessing of data\n",
    "cols = ['comment', 'subreddit', 'parent_comment']\n",
    "stemmer = PorterStemmer()\n",
    "stopwords = stopwords.words('english')\n",
    "\n",
    "for c in cols:\n",
    "    # remove special characters\n",
    "    data[c] = data[c].map(lambda x: re.sub(r'\\W', ' ', x))\n",
    "\n",
    "    # replace multiple spaces with single space \n",
    "    data[c] = data[c].map(lambda x: re.sub(r'\\s+', ' ', x, flags=re.I))\n",
    "\n",
    "    # remove all single characters\n",
    "    data[c] = data[c].map(lambda x:re.sub(r'\\s+[a-zA-Z]\\s+', ' ', x))\n",
    "\n",
    "    # covert text to lower case\n",
    "    data[c] = data[c].str.lower()\n",
    "\n",
    "    # tokenize text\n",
    "    data[c] = data[c].str.split()\n",
    "\n",
    "    # apply stemming\n",
    "    data[c] = data[c].map(lambda x: ' '.join([stemmer.stem(w) for w in x if w not in stopwords]))"
   ]
  },
  {
   "cell_type": "markdown",
   "metadata": {},
   "source": [
    "### 3a. Feature Engineering using TF-IDF Vectorization"
   ]
  },
  {
   "cell_type": "markdown",
   "metadata": {},
   "source": [
    "***term frequency:*** number of times a term has occured in a comment(document)<br>\n",
    "***inverse document frequency:*** ivnerse frequency of number of comments in which term occured "
   ]
  },
  {
   "cell_type": "code",
   "execution_count": 20,
   "metadata": {},
   "outputs": [],
   "source": [
    "# generate tf-idf vectors for comment column \n",
    "tfidf_comment = TfidfVectorizer(ngram_range=(1, 2), max_features=50000)\n",
    "comment_features_tfidf = tfidf_comment.fit_transform(data['comment'])"
   ]
  },
  {
   "cell_type": "code",
   "execution_count": 24,
   "metadata": {},
   "outputs": [
    {
     "data": {
      "text/plain": [
       "(50541, 50000)"
      ]
     },
     "execution_count": 24,
     "metadata": {},
     "output_type": "execute_result"
    }
   ],
   "source": [
    "comment_features_tfidf.shape"
   ]
  },
  {
   "cell_type": "code",
   "execution_count": 21,
   "metadata": {
    "scrolled": true
   },
   "outputs": [],
   "source": [
    "# generate tf-idf vectors for subreddit column \n",
    "tfidf_subreddit = TfidfVectorizer(ngram_range=(1, 2), max_features=50000)\n",
    "subreddit_features_tfidf = tfidf_subreddit.fit_transform(data['subreddit'])"
   ]
  },
  {
   "cell_type": "code",
   "execution_count": 26,
   "metadata": {},
   "outputs": [
    {
     "data": {
      "text/plain": [
       "(50541, 4047)"
      ]
     },
     "execution_count": 26,
     "metadata": {},
     "output_type": "execute_result"
    }
   ],
   "source": [
    "subreddit_features_tfidf.shape"
   ]
  },
  {
   "cell_type": "code",
   "execution_count": 23,
   "metadata": {},
   "outputs": [],
   "source": [
    "# generate tf-idf vectors for parent_comment column \n",
    "tfidf_parent_comment = TfidfVectorizer(ngram_range=(1, 2), max_features=50000)\n",
    "parent_comment_features_tfidf = tfidf_parent_comment.fit_transform(data['parent_comment'])"
   ]
  },
  {
   "cell_type": "code",
   "execution_count": 27,
   "metadata": {},
   "outputs": [
    {
     "data": {
      "text/plain": [
       "(50541, 50000)"
      ]
     },
     "execution_count": 27,
     "metadata": {},
     "output_type": "execute_result"
    }
   ],
   "source": [
    "parent_comment_features_tfidf.shape"
   ]
  },
  {
   "cell_type": "code",
   "execution_count": 17,
   "metadata": {},
   "outputs": [],
   "source": [
    "# standardize continous variables\n",
    "scaler = StandardScaler()\n",
    "score = scaler.fit_transform(data[['score', 'ups', 'downs']]) "
   ]
  },
  {
   "cell_type": "code",
   "execution_count": 18,
   "metadata": {
    "scrolled": true
   },
   "outputs": [
    {
     "name": "stdout",
     "output_type": "stream",
     "text": [
      "(50541, 104033) (50541,)\n"
     ]
    }
   ],
   "source": [
    "# stack up all the sparse features matrices horrizontally \n",
    "y_tfidf = data['label']\n",
    "X_tfidf = hstack([comment_features_tfidf, subreddit_features_tfidf, parent_comment_features_tfidf, score])\n",
    "print(X_tfidf.shape, y_tfidf.shape)"
   ]
  },
  {
   "cell_type": "code",
   "execution_count": 19,
   "metadata": {
    "scrolled": true
   },
   "outputs": [
    {
     "name": "stdout",
     "output_type": "stream",
     "text": [
      "Dimensions of train set with TF-IDF Features (40432, 104033)\n",
      "Dimensions of validation set with TF-IDF Features (10109, 104033)\n"
     ]
    }
   ],
   "source": [
    "# train test split\n",
    "X_train_tfidf, X_test_tfidf, y_train_tfidf, y_test_tfidf = train_test_split(X_tfidf, y_tfidf, test_size=0.2, random_state=0)\n",
    "print(\"Dimensions of train set with TF-IDF Features\", X_train_tfidf.shape)\n",
    "print(\"Dimensions of validation set with TF-IDF Features\", X_test_tfidf.shape)"
   ]
  },
  {
   "cell_type": "markdown",
   "metadata": {},
   "source": [
    "### 3b. Feature Engineering with Word2Vec"
   ]
  },
  {
   "cell_type": "code",
   "execution_count": 20,
   "metadata": {},
   "outputs": [],
   "source": [
    "# this function takes an average of the word embeddings for each word in a comment/doc\n",
    "def avg_word_embedding(comment, vocab, model, num_features):\n",
    "    feat_vec = np.zeros((num_features,),dtype=\"float64\")\n",
    "    num_words = 0\n",
    "    for word in comment:\n",
    "        if word in vocab:\n",
    "            feat_vec = np.add(feat_vec, model[word])\n",
    "            num_words += 1\n",
    "\n",
    "        if num_words:\n",
    "            feat_vec /= num_words\n",
    "\n",
    "    return feat_vec"
   ]
  },
  {
   "cell_type": "code",
   "execution_count": 21,
   "metadata": {},
   "outputs": [],
   "source": [
    "# train word2vec model on comment feature\n",
    "num_features = 500\n",
    "corpus = data['comment'].values.tolist()\n",
    "model = Word2Vec(sentences=corpus, size=num_features, window=5, workers=4, min_count=1)\n",
    "\n",
    "# get vocab from model\n",
    "vocab = list(model.wv.index2word)\n",
    "\n",
    "# generate feature vector for each comment in the data\n",
    "comment_features_word2vec = np.array([avg_word_embedding(comment, vocab, model, num_features) for comment in corpus])"
   ]
  },
  {
   "cell_type": "code",
   "execution_count": 22,
   "metadata": {},
   "outputs": [],
   "source": [
    "# train word2vec model on subreddit feature\n",
    "num_features = 500\n",
    "corpus = data['subreddit'].values.tolist()\n",
    "model = Word2Vec(sentences=corpus, size=num_features, window=5, workers=4, min_count=1)\n",
    "\n",
    "# get vocab from model\n",
    "vocab = list(model.wv.index2word)\n",
    "\n",
    "# generate feature vector for each subreddit in the data\n",
    "subreddit_features_word2vec = np.array([avg_word_embedding(comment, vocab, model, num_features) for comment in corpus])"
   ]
  },
  {
   "cell_type": "code",
   "execution_count": 23,
   "metadata": {},
   "outputs": [],
   "source": [
    "# train word2vec model on parent_comment feature\n",
    "num_features = 500\n",
    "corpus = data['parent_comment'].values.tolist()\n",
    "model = Word2Vec(sentences=corpus, size=num_features, window=5, workers=4, min_count=1)\n",
    "\n",
    "# get vocab from model\n",
    "vocab = list(model.wv.index2word)\n",
    "\n",
    "# generate feature vector for each parent_comment in the data\n",
    "parent_comment_features_word2vec = np.array([avg_word_embedding(comment, vocab, model, num_features) for comment in corpus])"
   ]
  },
  {
   "cell_type": "code",
   "execution_count": 24,
   "metadata": {},
   "outputs": [
    {
     "name": "stdout",
     "output_type": "stream",
     "text": [
      "(50541, 1503) (50541,)\n"
     ]
    }
   ],
   "source": [
    "# stack up all the sparse features matrices horrizontally \n",
    "y_word2vec = data['label']\n",
    "X_word2vec = np.hstack([comment_features_word2vec, subreddit_features_word2vec, parent_comment_features_word2vec, score])\n",
    "print(X_word2vec.shape, y_word2vec.shape)"
   ]
  },
  {
   "cell_type": "code",
   "execution_count": 25,
   "metadata": {},
   "outputs": [
    {
     "name": "stdout",
     "output_type": "stream",
     "text": [
      "Dimensions of train set with word2vec features: (40432, 1503)\n",
      "Dimensions of validation set with word2vec features: (10109, 1503)\n"
     ]
    }
   ],
   "source": [
    "# train test split\n",
    "X_train_word2vec, X_test_word2vec, y_train_word2vec, y_test_word2vec = train_test_split(X_word2vec, y_word2vec, test_size=0.2, random_state=0)\n",
    "print(\"Dimensions of train set with word2vec features:\", X_train_word2vec.shape)\n",
    "print(\"Dimensions of validation set with word2vec features:\", X_test_word2vec.shape)"
   ]
  },
  {
   "cell_type": "markdown",
   "metadata": {},
   "source": [
    "### 4a Training Logistic Regression with TF-IDF Features"
   ]
  },
  {
   "cell_type": "code",
   "execution_count": 26,
   "metadata": {
    "scrolled": true
   },
   "outputs": [
    {
     "data": {
      "text/plain": [
       "LogisticRegression(C=1.0, class_weight=None, dual=False, fit_intercept=True,\n",
       "                   intercept_scaling=1, l1_ratio=None, max_iter=100,\n",
       "                   multi_class='auto', n_jobs=None, penalty='l2',\n",
       "                   random_state=None, solver='lbfgs', tol=0.0001, verbose=0,\n",
       "                   warm_start=False)"
      ]
     },
     "execution_count": 26,
     "metadata": {},
     "output_type": "execute_result"
    }
   ],
   "source": [
    "# train logitic regression classifier\n",
    "lr_tfidf = LogisticRegression()\n",
    "lr_tfidf.fit(X_train_tfidf, y_train_tfidf) "
   ]
  },
  {
   "cell_type": "code",
   "execution_count": 27,
   "metadata": {
    "scrolled": false
   },
   "outputs": [
    {
     "name": "stdout",
     "output_type": "stream",
     "text": [
      "Model Accuracy on Training Set: 0.854\n",
      "Model Accuracy on Test Set: 0.67\n"
     ]
    }
   ],
   "source": [
    "# print traing and test set accuracies\n",
    "print(\"Model Accuracy on Training Set:\", round(accuracy_score(y_train_tfidf, lr_tfidf.predict(X_train_tfidf)), 3))\n",
    "print(\"Model Accuracy on Test Set:\", round(accuracy_score(y_test_tfidf, lr_tfidf.predict(X_test_tfidf)), 3))"
   ]
  },
  {
   "cell_type": "code",
   "execution_count": 28,
   "metadata": {
    "scrolled": true
   },
   "outputs": [
    {
     "name": "stdout",
     "output_type": "stream",
     "text": [
      "Classification Report on Test Set:\n",
      "\n",
      "              precision    recall  f1-score   support\n",
      "\n",
      "           0       0.69      0.81      0.74      5975\n",
      "           1       0.63      0.47      0.54      4134\n",
      "\n",
      "    accuracy                           0.67     10109\n",
      "   macro avg       0.66      0.64      0.64     10109\n",
      "weighted avg       0.66      0.67      0.66     10109\n",
      "\n"
     ]
    }
   ],
   "source": [
    "# make predictions on test set and print performance metrics\n",
    "print(\"Classification Report on Test Set:\\n\")\n",
    "print(classification_report(y_test_tfidf, lr_tfidf.predict(X_test_tfidf)))"
   ]
  },
  {
   "cell_type": "code",
   "execution_count": null,
   "metadata": {},
   "outputs": [],
   "source": [
    "Precision = TP / (TP + FP)\n",
    "ratio of correctly classified points of interest(sarcastic comments)\n",
    "Recall = TP / TP + FN\n",
    "ability of model to find points of interest (sarcastic comments) in the data"
   ]
  },
  {
   "cell_type": "markdown",
   "metadata": {},
   "source": [
    "### 4b.SVM with TF-IDF Vectorization"
   ]
  },
  {
   "cell_type": "code",
   "execution_count": 36,
   "metadata": {},
   "outputs": [
    {
     "data": {
      "text/plain": [
       "SVC(C=1.0, break_ties=False, cache_size=200, class_weight=None, coef0=0.0,\n",
       "    decision_function_shape='ovr', degree=3, gamma='scale', kernel='rbf',\n",
       "    max_iter=-1, probability=False, random_state=None, shrinking=True,\n",
       "    tol=0.001, verbose=False)"
      ]
     },
     "execution_count": 36,
     "metadata": {},
     "output_type": "execute_result"
    }
   ],
   "source": [
    "# train svm\n",
    "svm_tfidf = svm.SVC()\n",
    "svm_tfidf.fit(X_train_tfidf, y_train_tfidf)"
   ]
  },
  {
   "cell_type": "code",
   "execution_count": 37,
   "metadata": {
    "scrolled": true
   },
   "outputs": [
    {
     "name": "stdout",
     "output_type": "stream",
     "text": [
      "Model Accuracy on Training Set: 0.846\n",
      "Model Accuracy on Test Set: 0.844\n"
     ]
    }
   ],
   "source": [
    "# print accuracy on train and test sets\n",
    "print(\"Model Accuracy on Training Set:\", round(accuracy_score(y_train_tfidf, svm_tfidf.predict(X_train_tfidf)), 3))\n",
    "print(\"Model Accuracy on Test Set:\", round(accuracy_score(y_test_tfidf, svm_tfidf.predict(X_test_tfidf)), 3))"
   ]
  },
  {
   "cell_type": "code",
   "execution_count": 38,
   "metadata": {
    "scrolled": true
   },
   "outputs": [
    {
     "name": "stdout",
     "output_type": "stream",
     "text": [
      "Classification Report on Test Set:\n",
      "\n",
      "              precision    recall  f1-score   support\n",
      "\n",
      "           0       0.80      0.97      0.88      5975\n",
      "           1       0.94      0.66      0.77      4134\n",
      "\n",
      "    accuracy                           0.84     10109\n",
      "   macro avg       0.87      0.81      0.83     10109\n",
      "weighted avg       0.86      0.84      0.84     10109\n",
      "\n"
     ]
    }
   ],
   "source": [
    "# make predictions on test set and print performance metrics\n",
    "print(\"Classification Report on Test Set:\\n\")\n",
    "print(classification_report(y_test_tfidf, svm_tfidf.predict(X_test_tfidf)))"
   ]
  },
  {
   "cell_type": "markdown",
   "metadata": {},
   "source": [
    "### 4c. Training Logistic Regression with Word2Vec Features "
   ]
  },
  {
   "cell_type": "code",
   "execution_count": 29,
   "metadata": {
    "scrolled": true
   },
   "outputs": [
    {
     "data": {
      "text/plain": [
       "LogisticRegression(C=1.0, class_weight=None, dual=False, fit_intercept=True,\n",
       "                   intercept_scaling=1, l1_ratio=None, max_iter=100,\n",
       "                   multi_class='auto', n_jobs=None, penalty='l2',\n",
       "                   random_state=None, solver='lbfgs', tol=0.0001, verbose=0,\n",
       "                   warm_start=False)"
      ]
     },
     "execution_count": 29,
     "metadata": {},
     "output_type": "execute_result"
    }
   ],
   "source": [
    "# train classifier\n",
    "lr_word2vec = LogisticRegression()\n",
    "lr_word2vec.fit(X_train_word2vec, y_train_word2vec) "
   ]
  },
  {
   "cell_type": "code",
   "execution_count": 30,
   "metadata": {},
   "outputs": [
    {
     "name": "stdout",
     "output_type": "stream",
     "text": [
      "Model Accuracy on Training Set: 0.591\n",
      "Model Accuracy on Test Set: 0.595\n"
     ]
    }
   ],
   "source": [
    "print(\"Model Accuracy on Training Set:\", round(accuracy_score(y_train_word2vec, lr_word2vec.predict(X_train_word2vec)), 3))\n",
    "print(\"Model Accuracy on Test Set:\", round(accuracy_score(y_test_word2vec, lr_word2vec.predict(X_test_word2vec)), 3))"
   ]
  },
  {
   "cell_type": "code",
   "execution_count": 32,
   "metadata": {
    "scrolled": false
   },
   "outputs": [
    {
     "name": "stdout",
     "output_type": "stream",
     "text": [
      "Classification Report on Test Set:\n",
      "\n",
      "              precision    recall  f1-score   support\n",
      "\n",
      "           0       0.60      0.98      0.74      5975\n",
      "           1       0.60      0.03      0.06      4134\n",
      "\n",
      "    accuracy                           0.60     10109\n",
      "   macro avg       0.60      0.51      0.40     10109\n",
      "weighted avg       0.60      0.60      0.46     10109\n",
      "\n"
     ]
    }
   ],
   "source": [
    "# make predictions on test set and print performance metrics\n",
    "print(\"Classification Report on Test Set:\\n\")\n",
    "print(classification_report(y_test_word2vec, lr_word2vec.predict(X_test_word2vec)))"
   ]
  },
  {
   "cell_type": "markdown",
   "metadata": {},
   "source": [
    "### 4d. Training SVM with Word2Vec Features"
   ]
  },
  {
   "cell_type": "code",
   "execution_count": 34,
   "metadata": {},
   "outputs": [
    {
     "data": {
      "text/plain": [
       "SVC(C=1.0, break_ties=False, cache_size=200, class_weight=None, coef0=0.0,\n",
       "    decision_function_shape='ovr', degree=3, gamma='scale', kernel='rbf',\n",
       "    max_iter=-1, probability=False, random_state=None, shrinking=True,\n",
       "    tol=0.001, verbose=False)"
      ]
     },
     "execution_count": 34,
     "metadata": {},
     "output_type": "execute_result"
    }
   ],
   "source": [
    "# train classifier\n",
    "svm_word2vec = svm.SVC()\n",
    "svm_word2vec.fit(X_train_word2vec, y_train_word2vec) "
   ]
  },
  {
   "cell_type": "code",
   "execution_count": 35,
   "metadata": {},
   "outputs": [
    {
     "name": "stdout",
     "output_type": "stream",
     "text": [
      "Model Accuracy on Training Set: 0.589\n",
      "Model Accuracy on Test Set: 0.592\n"
     ]
    }
   ],
   "source": [
    "print(\"Model Accuracy on Training Set:\", round(accuracy_score(y_train_word2vec, svm_word2vec.predict(X_train_word2vec)), 3))\n",
    "print(\"Model Accuracy on Test Set:\", round(accuracy_score(y_test_word2vec, svm_word2vec.predict(X_test_word2vec)), 3))"
   ]
  },
  {
   "cell_type": "code",
   "execution_count": 36,
   "metadata": {},
   "outputs": [
    {
     "name": "stdout",
     "output_type": "stream",
     "text": [
      "Classification Report on Test Set:\n",
      "\n",
      "              precision    recall  f1-score   support\n",
      "\n",
      "           0       0.59      1.00      0.74      5975\n",
      "           1       0.62      0.00      0.01      4134\n",
      "\n",
      "    accuracy                           0.59     10109\n",
      "   macro avg       0.61      0.50      0.38     10109\n",
      "weighted avg       0.60      0.59      0.44     10109\n",
      "\n"
     ]
    }
   ],
   "source": [
    "# make predictions on test set and print performance metrics\n",
    "print(\"Classification Report on Test Set:\\n\")\n",
    "print(classification_report(y_test_word2vec, svm_word2vec.predict(X_test_word2vec)))"
   ]
  }
 ],
 "metadata": {
  "kernelspec": {
   "display_name": "Python 3",
   "language": "python",
   "name": "python3"
  },
  "language_info": {
   "codemirror_mode": {
    "name": "ipython",
    "version": 3
   },
   "file_extension": ".py",
   "mimetype": "text/x-python",
   "name": "python",
   "nbconvert_exporter": "python",
   "pygments_lexer": "ipython3",
   "version": "3.7.5"
  }
 },
 "nbformat": 4,
 "nbformat_minor": 2
}
